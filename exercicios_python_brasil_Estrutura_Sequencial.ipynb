{
  "nbformat": 4,
  "nbformat_minor": 0,
  "metadata": {
    "colab": {
      "name": "exercicios python brasil sequencial",
      "provenance": [],
      "collapsed_sections": [],
      "authorship_tag": "ABX9TyO/xtxrgeHneblYjgLzep0C",
      "include_colab_link": true
    },
    "kernelspec": {
      "name": "python3",
      "display_name": "Python 3"
    },
    "language_info": {
      "name": "python"
    }
  },
  "cells": [
    {
      "cell_type": "markdown",
      "metadata": {
        "id": "view-in-github",
        "colab_type": "text"
      },
      "source": [
        "<a href=\"https://colab.research.google.com/github/JoiceJesus/ExerciciosdePython/blob/main/exercicios_python_brasil_Estrutura_Sequencial.ipynb\" target=\"_parent\"><img src=\"https://colab.research.google.com/assets/colab-badge.svg\" alt=\"Open In Colab\"/></a>"
      ]
    },
    {
      "cell_type": "markdown",
      "metadata": {
        "id": "Qt3qI98cqxpZ"
      },
      "source": [
        "Lista de exercicios de Python Estrutura Sequencial\n",
        "https://wiki.python.org.br/EstruturaSequencial"
      ]
    },
    {
      "cell_type": "code",
      "metadata": {
        "id": "pzI2eNe6RE8H",
        "colab": {
          "base_uri": "https://localhost:8080/"
        },
        "outputId": "8a05fea0-37d5-44b0-a73a-16559d082ec3"
      },
      "source": [
        " #Q1\n",
        " print(\"Alo Mundo\")"
      ],
      "execution_count": null,
      "outputs": [
        {
          "output_type": "stream",
          "text": [
            "Alo Mundo\n"
          ],
          "name": "stdout"
        }
      ]
    },
    {
      "cell_type": "code",
      "metadata": {
        "colab": {
          "base_uri": "https://localhost:8080/"
        },
        "id": "0_hK3x4oryaM",
        "outputId": "f9b1ce64-7d5d-4108-bce2-83e8cfb863ce"
      },
      "source": [
        "#Q2\n",
        "num = input(\"Informe um valor: \")\n",
        "print(\"Você digitou:\"+num)"
      ],
      "execution_count": null,
      "outputs": [
        {
          "output_type": "stream",
          "text": [
            "Informe um valor: 10\n",
            "Você digitou:10\n"
          ],
          "name": "stdout"
        }
      ]
    },
    {
      "cell_type": "code",
      "metadata": {
        "colab": {
          "base_uri": "https://localhost:8080/"
        },
        "id": "1zdKNnJisoTY",
        "outputId": "8523507c-48ff-4ac5-d380-e6c3cc1d5569"
      },
      "source": [
        "#Q3\n",
        "num1 = int (input(\"Informe o valor 1:\"))\n",
        "num2 = int (input(\"Informe o valor 2:\"))\n",
        "\n",
        "print(num1+num2)"
      ],
      "execution_count": null,
      "outputs": [
        {
          "output_type": "stream",
          "text": [
            "Informe o valor 1:5\n",
            "Informe o valor 2:5\n",
            "10\n"
          ],
          "name": "stdout"
        }
      ]
    },
    {
      "cell_type": "code",
      "metadata": {
        "id": "7JgxOwmlujQn",
        "colab": {
          "base_uri": "https://localhost:8080/"
        },
        "outputId": "fe80e52e-0abf-4a08-edcd-142da2eb0565"
      },
      "source": [
        "#Q4\n",
        "nota1 = int (input(\"Informe a nota 1:\"))\n",
        "nota2 = int (input(\"Informe a nota 2:\"))\n",
        "nota3 = int (input(\"Informe a nota 3:\"))\n",
        "nota4 = int (input(\"Informe a nota 4:\"))\n",
        "print((nota1+nota2+nota3+nota4)/4)"
      ],
      "execution_count": null,
      "outputs": [
        {
          "output_type": "stream",
          "text": [
            "Informe a nota 1:1\n",
            "Informe a nota 2:1\n",
            "Informe a nota 3:1\n",
            "Informe a nota 4:1\n",
            "1.0\n"
          ],
          "name": "stdout"
        }
      ]
    },
    {
      "cell_type": "code",
      "metadata": {
        "colab": {
          "base_uri": "https://localhost:8080/"
        },
        "id": "wtbLS-5XzukJ",
        "outputId": "7b26f55f-cf0f-457d-a99d-09977bc24de9"
      },
      "source": [
        "#Q5\n",
        "metros = float (input(\"Informe o valor em metros:\"))\n",
        "\n",
        "centimetros = metros*100\n",
        "print(centimetros,\" centimetros\")"
      ],
      "execution_count": null,
      "outputs": [
        {
          "output_type": "stream",
          "text": [
            "Informe o valor em metros:2\n",
            "200.0  centimetros\n"
          ],
          "name": "stdout"
        }
      ]
    },
    {
      "cell_type": "code",
      "metadata": {
        "colab": {
          "base_uri": "https://localhost:8080/"
        },
        "id": "qaijqqV60mBm",
        "outputId": "6600952e-5816-4bfd-c7b9-32714b3e8edd"
      },
      "source": [
        "#Q6\n",
        "raio = float(input(\"Informe o raio do circulo:\"))\n",
        "\n",
        "pi = 180\n",
        "quadradodoraio = raio*raio\n",
        "\n",
        "area = pi*quadradodoraio\n",
        "\n",
        "print(\"A area do circulo é\",area)"
      ],
      "execution_count": null,
      "outputs": [
        {
          "output_type": "stream",
          "text": [
            "Informe o raio do circulo:3\n",
            "A area do circulo é 1620.0\n"
          ],
          "name": "stdout"
        }
      ]
    },
    {
      "cell_type": "code",
      "metadata": {
        "colab": {
          "base_uri": "https://localhost:8080/"
        },
        "id": "dHiwiTH82D70",
        "outputId": "625a96d5-fbb3-4c62-8536-cc7fc0823866"
      },
      "source": [
        "#Q7\n",
        "autura = float (input(\"Informe a altura do quadrado\")) \n",
        "largura = float (input(\"Informe a largura do quadrado\")) \n",
        "\n",
        "area = autura*largura\n",
        "\n",
        "dobrodaarea = area*2\n",
        "\n",
        "print(\"A área do quadrado é:\",area)\n",
        "print(\"A largura do quadrado é:\",dobrodaarea)\n",
        "\n",
        "\n"
      ],
      "execution_count": null,
      "outputs": [
        {
          "output_type": "stream",
          "text": [
            "Informe a altura do quadrado2\n",
            "Informe a largura do quadrado2\n",
            "A área do quadrado é: 4.0\n",
            "A largura do quadrado é: 8.0\n"
          ],
          "name": "stdout"
        }
      ]
    },
    {
      "cell_type": "code",
      "metadata": {
        "colab": {
          "base_uri": "https://localhost:8080/"
        },
        "id": "nymgcMvBEF7G",
        "outputId": "64c7ef40-4819-4e16-c63b-e6f612a54f87"
      },
      "source": [
        "#Q8\n",
        "ganhoshr = float (input(\"Informe qual a valor da hora trabalhada: \"))\n",
        "meshr = float (input(\"Informe quantas horas você trabalha no mês: \"))\n",
        "\n",
        "totalSalario = ganhoshr * meshr\n",
        "\n",
        "print(\"Valor do seu Salario é: \",totalSalario)"
      ],
      "execution_count": 6,
      "outputs": [
        {
          "output_type": "stream",
          "text": [
            "Informe qual a valor da hora trabalhada: 10\n",
            "Informe quantas horas você trabalha no mês: 80\n",
            "Valor do seu Salario é:  800.0\n"
          ],
          "name": "stdout"
        }
      ]
    },
    {
      "cell_type": "code",
      "metadata": {
        "colab": {
          "base_uri": "https://localhost:8080/"
        },
        "id": "-wLVFvDrF7Y1",
        "outputId": "7eac6e89-42d9-4fe4-81ef-33c4baa4e427"
      },
      "source": [
        "#Q9\n",
        "grausF = float (input(\"Informe a temperatura em Graus Fahrenheit: \"))\n",
        "C = ((grausF-32)/1.8)\n",
        "print(\"A temperatura em Graus Celsio é: \",C)"
      ],
      "execution_count": 20,
      "outputs": [
        {
          "output_type": "stream",
          "text": [
            "Informe a temperatura em Graus Fahrenheit: 451\n",
            "A temperatura em Graus Celsio é:  232.77777777777777\n"
          ],
          "name": "stdout"
        }
      ]
    },
    {
      "cell_type": "code",
      "metadata": {
        "colab": {
          "base_uri": "https://localhost:8080/"
        },
        "id": "gldRYatqHaIq",
        "outputId": "7e2b50c9-7f32-4bac-ada4-4c5b5cdfae34"
      },
      "source": [
        "#Q10\n",
        "grausC = float (input(\"Informe a temperatura em Graus Celsios: \"))\n",
        "\n",
        "F = grausC*1.8+32\n",
        "\n",
        "print(\"A temperatura em Graus Fahrenheit é: \",F)"
      ],
      "execution_count": 21,
      "outputs": [
        {
          "output_type": "stream",
          "text": [
            "Informe a temperatura em Graus Celsios: 233\n",
            "A temperatura em Graus Fahrenheit é:  451.40000000000003\n"
          ],
          "name": "stdout"
        }
      ]
    },
    {
      "cell_type": "code",
      "metadata": {
        "colab": {
          "base_uri": "https://localhost:8080/"
        },
        "id": "k89oIgiJIv_K",
        "outputId": "d5b1be3e-6d57-409f-80fe-c86468995d70"
      },
      "source": [
        "#Q11\n",
        "int1 = int (input(\"Informe o 1° número inteiro (ex:1,2,3...): \"))\n",
        "int2 = int (input(\"Informe o 2° número inteiro (ex:1,2,3...): \"))\n",
        "float1 = float (input(\"Informe um número real (ex:1.5,2.6,3.9...): \"))\n",
        "\n",
        "#(a) O produto do dobro do primeiro com metade do segundo.\n",
        "a = ((int1*2)*(int2/2))\n",
        "print(\"Resposta da letra (a) = \",a)\n",
        "#(b) A soma do triplo do primeiro com o terceiro.\n",
        "b = (int1*3)+(float1)\n",
        "print(\"Resposta da letra (b) = \",b)\n",
        "#(c) O terceiro elevado ao cubo.\n",
        "c = pow(float1,3)\n",
        "print(\"Resposta da letra (c) = \",c)"
      ],
      "execution_count": 27,
      "outputs": [
        {
          "output_type": "stream",
          "text": [
            "Informe o 1° número inteiro (ex:1,2,3...): 2\n",
            "Informe o 2° número inteiro (ex:1,2,3...): 2\n",
            "Informe um número real (ex:1.5,2.6,3.9...): 3\n",
            "Resposta da letra (a) =  4.0\n",
            "Resposta da letra (b) =  9.0\n",
            "Resposta da letra (c) =  27.0\n"
          ],
          "name": "stdout"
        }
      ]
    },
    {
      "cell_type": "code",
      "metadata": {
        "colab": {
          "base_uri": "https://localhost:8080/"
        },
        "id": "tx5SM1yuL_g1",
        "outputId": "0185ca70-ce35-4593-e9de-e67798455fc5"
      },
      "source": [
        "#Q12\n",
        "alt = float (input(\"Informe sua altura: \"))\n",
        "\n",
        "pesoid = (72.7*alt) - 58\n",
        "print(\"Seu peso ideal é: \",pesoid)\n"
      ],
      "execution_count": 29,
      "outputs": [
        {
          "output_type": "stream",
          "text": [
            "Informe sua altura: 1.70\n",
            "Seu peso ideal é:  65.59\n"
          ],
          "name": "stdout"
        }
      ]
    },
    {
      "cell_type": "code",
      "metadata": {
        "colab": {
          "base_uri": "https://localhost:8080/"
        },
        "id": "jfC8RoLhOXEo",
        "outputId": "c0758e6d-f7b6-4503-a256-dabe1b38666e"
      },
      "source": [
        "#Q13\n",
        "alt = float (input(\"Informe sua altura: \"))\n",
        "sex = input(\"Informe se Mulher(M) se Homem(H): \")\n",
        "\n",
        "pesoidH = (72.7*alt) - 58\n",
        "pesoidM =  (62.1*alt) - 44.7\n",
        "\n",
        "if sex == \"H\":\n",
        " print(\"Seu peso ideal é: \",pesoidH)\n",
        "if sex == \"M\":\n",
        "   print(\"Seu peso ideal é: \",pesoidM)\n",
        "else:\n",
        "  print(\"Informe o sex corretamente! \\n ERRO! \")"
      ],
      "execution_count": 38,
      "outputs": [
        {
          "output_type": "stream",
          "text": [
            "Informe sua altura: 1.70\n",
            "Informe se Mulher(M) se Homem(H): J\n",
            "Informe o sex corretamente! \n",
            " ERRO! \n"
          ],
          "name": "stdout"
        }
      ]
    },
    {
      "cell_type": "code",
      "metadata": {
        "colab": {
          "base_uri": "https://localhost:8080/"
        },
        "id": "1-pP8jwsQE89",
        "outputId": "bfd7d4a5-7886-49f5-e5a6-adba49c8f1c1"
      },
      "source": [
        "#Q14\n",
        "peso = float (input(\"Informe o peso\"))\n",
        "if peso>50 :\n",
        "  excesso = peso - 50\n",
        "  print(\"Excesso = \",excesso,\"Kg\")\n",
        "  multa = excesso*4.0\n",
        "  print(\"O valor da multa = \",multa,\"reais\")\n",
        "else:\n",
        "  print(\"Peso dentro do valor estabelecido, não precisa pagar multa\")"
      ],
      "execution_count": 8,
      "outputs": [
        {
          "output_type": "stream",
          "text": [
            "Informe o peso55\n",
            "Excesso =  5.0 Kg\n",
            "O valor da multa =  20.0 reais\n"
          ],
          "name": "stdout"
        }
      ]
    },
    {
      "cell_type": "code",
      "metadata": {
        "id": "Z3ncE1XBp9Oh"
      },
      "source": [
        "#Q15\n"
      ],
      "execution_count": null,
      "outputs": []
    }
  ]
}